{
 "cells": [
  {
   "cell_type": "code",
   "execution_count": null,
   "id": "5d666f77-24fe-4ce1-8e3c-b90b8fde6a83",
   "metadata": {},
   "outputs": [],
   "source": []
  },
  {
   "cell_type": "code",
   "execution_count": 1,
   "id": "15dcd429-edcf-4137-ac29-fb4f12c34b95",
   "metadata": {},
   "outputs": [
    {
     "name": "stdout",
     "output_type": "stream",
     "text": [
      "Transition matrix has been saved to LC_Type1_0615_transition_matrix_10x10.csv.\n"
     ]
    }
   ],
   "source": [
    "import numpy as np\n",
    "import rasterio\n",
    "import pandas as pd\n",
    "\n",
    "# Define the file paths\n",
    "before_tif_path = r\"C:\\Users\\llccl\\OneDrive\\Documents\\To Do\\Academics\\2nd Year - 1st Semester\\Master Thesis\\2 - Thesis Proper\\5 - Processing\\3. Disturbed Mask\\2006 to 2015 Exports\\LC_Type 1\\Disturbed_Mask_Before_After\\Before_Landcover_mosaic.tif\"\n",
    "after_tif_path = r\"C:\\Users\\llccl\\OneDrive\\Documents\\To Do\\Academics\\2nd Year - 1st Semester\\Master Thesis\\2 - Thesis Proper\\5 - Processing\\3. Disturbed Mask\\2006 to 2015 Exports\\LC_Type 1\\Disturbed_Mask_Before_After\\After_Landcover_mosaic.tif\"\n",
    "output_csv_path = \"LC_Type1_0615_transition_matrix_10x10.csv\" #1\n",
    "\n",
    "# Load the before and after images\n",
    "with rasterio.open(before_tif_path) as before_src:\n",
    "    before_data = before_src.read(1)  # Read the first band\n",
    "\n",
    "with rasterio.open(after_tif_path) as after_src:\n",
    "    after_data = after_src.read(1)  # Read the first band\n",
    "\n",
    "# Ensure both images have the same dimensions\n",
    "if before_data.shape != after_data.shape:\n",
    "    raise ValueError(\"The dimensions of the before and after images do not match.\")\n",
    "\n",
    "# Define the number of classifications (e.g., 10 classifications from 1 to 10)\n",
    "num_classes = 10\n",
    "\n",
    "# Initialize the transition matrix\n",
    "transition_matrix = np.zeros((num_classes, num_classes), dtype=int)\n",
    "\n",
    "# Calculate the transition matrix\n",
    "for i in range(1, num_classes + 1):\n",
    "    for j in range(1, num_classes + 1):\n",
    "        transition_matrix[i - 1, j - 1] = np.sum((before_data == i) & (after_data == j))\n",
    "\n",
    "# Convert the matrix to a DataFrame for better readability\n",
    "transition_df = pd.DataFrame(\n",
    "    transition_matrix,\n",
    "    index=[f\"Class_{i}\" for i in range(1, num_classes + 1)],\n",
    "    columns=[f\"Class_{j}\" for j in range(1, num_classes + 1)],\n",
    ")\n",
    "\n",
    "# Export the transition matrix to a CSV file\n",
    "transition_df.to_csv(output_csv_path)\n",
    "\n",
    "print(f\"Transition matrix has been saved to {output_csv_path}.\")\n"
   ]
  },
  {
   "cell_type": "code",
   "execution_count": 2,
   "id": "cdd41257-0def-4768-acd0-57b704cfd2ad",
   "metadata": {},
   "outputs": [
    {
     "name": "stdout",
     "output_type": "stream",
     "text": [
      "Transition matrix has been saved to LC_Type1_0120_transition_matrix_10x10.csv.\n"
     ]
    }
   ],
   "source": [
    "import numpy as np\n",
    "import rasterio\n",
    "import pandas as pd\n",
    "\n",
    "# Define the file paths\n",
    "before_tif_path = r\"C:\\Users\\llccl\\OneDrive\\Documents\\To Do\\Academics\\2nd Year - 1st Semester\\Master Thesis\\2 - Thesis Proper\\5 - Processing\\3. Disturbed Mask\\2000 to 2020 Exports\\MODIS LC (2001 to 2020)\\Disturbed_Mask_Before_After\\Before_Landcover_mosaic.tif\"\n",
    "after_tif_path = r\"C:\\Users\\llccl\\OneDrive\\Documents\\To Do\\Academics\\2nd Year - 1st Semester\\Master Thesis\\2 - Thesis Proper\\5 - Processing\\3. Disturbed Mask\\2000 to 2020 Exports\\MODIS LC (2001 to 2020)\\Disturbed_Mask_Before_After\\After_Landcover_mosaic.tif\"\n",
    "output_csv_path = \"LC_Type1_0120_transition_matrix_10x10.csv\" #3\n",
    "\n",
    "# Load the before and after images\n",
    "with rasterio.open(before_tif_path) as before_src:\n",
    "    before_data = before_src.read(1)  # Read the first band\n",
    "\n",
    "with rasterio.open(after_tif_path) as after_src:\n",
    "    after_data = after_src.read(1)  # Read the first band\n",
    "\n",
    "# Ensure both images have the same dimensions\n",
    "if before_data.shape != after_data.shape:\n",
    "    raise ValueError(\"The dimensions of the before and after images do not match.\")\n",
    "\n",
    "# Define the number of classifications (e.g., 10 classifications from 1 to 10)\n",
    "num_classes = 10\n",
    "\n",
    "# Initialize the transition matrix\n",
    "transition_matrix = np.zeros((num_classes, num_classes), dtype=int)\n",
    "\n",
    "# Calculate the transition matrix\n",
    "for i in range(1, num_classes + 1):\n",
    "    for j in range(1, num_classes + 1):\n",
    "        transition_matrix[i - 1, j - 1] = np.sum((before_data == i) & (after_data == j))\n",
    "\n",
    "# Convert the matrix to a DataFrame for better readability\n",
    "transition_df = pd.DataFrame(\n",
    "    transition_matrix,\n",
    "    index=[f\"Class_{i}\" for i in range(1, num_classes + 1)],\n",
    "    columns=[f\"Class_{j}\" for j in range(1, num_classes + 1)],\n",
    ")\n",
    "\n",
    "# Export the transition matrix to a CSV file\n",
    "transition_df.to_csv(output_csv_path)\n",
    "\n",
    "print(f\"Transition matrix has been saved to {output_csv_path}.\")\n"
   ]
  },
  {
   "cell_type": "code",
   "execution_count": 3,
   "id": "fee7c699-36f8-4c9f-9365-fab8d9bef272",
   "metadata": {},
   "outputs": [
    {
     "name": "stdout",
     "output_type": "stream",
     "text": [
      "Transition matrix has been saved to LC_Type1_0615_Cons_transition_matrix_10x10.csv.\n"
     ]
    }
   ],
   "source": [
    "import numpy as np\n",
    "import rasterio\n",
    "import pandas as pd\n",
    "\n",
    "# Define the file paths\n",
    "before_tif_path = r\"C:\\Users\\llccl\\OneDrive\\Documents\\To Do\\Academics\\2nd Year - 1st Semester\\Master Thesis\\2 - Thesis Proper\\5 - Processing\\3. Disturbed Mask\\2000 to 2020 Exports\\MODIS LC  (2006 to 2015 but consistent)\\Disturbed_Mask_Before_After\\Before_Landcover_mosaic.tif\"\n",
    "after_tif_path = r\"C:\\Users\\llccl\\OneDrive\\Documents\\To Do\\Academics\\2nd Year - 1st Semester\\Master Thesis\\2 - Thesis Proper\\5 - Processing\\3. Disturbed Mask\\2000 to 2020 Exports\\MODIS LC  (2006 to 2015 but consistent)\\Disturbed_Mask_Before_After\\After_Landcover_mosaic.tif\"\n",
    "output_csv_path = \"LC_Type1_0615_Cons_transition_matrix_10x10.csv\" #4\n",
    "\n",
    "# Load the before and after images\n",
    "with rasterio.open(before_tif_path) as before_src:\n",
    "    before_data = before_src.read(1)  # Read the first band\n",
    "\n",
    "with rasterio.open(after_tif_path) as after_src:\n",
    "    after_data = after_src.read(1)  # Read the first band\n",
    "\n",
    "# Ensure both images have the same dimensions\n",
    "if before_data.shape != after_data.shape:\n",
    "    raise ValueError(\"The dimensions of the before and after images do not match.\")\n",
    "\n",
    "# Define the number of classifications (e.g., 10 classifications from 1 to 10)\n",
    "num_classes = 10\n",
    "\n",
    "# Initialize the transition matrix\n",
    "transition_matrix = np.zeros((num_classes, num_classes), dtype=int)\n",
    "\n",
    "# Calculate the transition matrix\n",
    "for i in range(1, num_classes + 1):\n",
    "    for j in range(1, num_classes + 1):\n",
    "        transition_matrix[i - 1, j - 1] = np.sum((before_data == i) & (after_data == j))\n",
    "\n",
    "# Convert the matrix to a DataFrame for better readability\n",
    "transition_df = pd.DataFrame(\n",
    "    transition_matrix,\n",
    "    index=[f\"Class_{i}\" for i in range(1, num_classes + 1)],\n",
    "    columns=[f\"Class_{j}\" for j in range(1, num_classes + 1)],\n",
    ")\n",
    "\n",
    "# Export the transition matrix to a CSV file\n",
    "transition_df.to_csv(output_csv_path)\n",
    "\n",
    "print(f\"Transition matrix has been saved to {output_csv_path}.\")\n"
   ]
  },
  {
   "cell_type": "code",
   "execution_count": null,
   "id": "9dcde08c-cc38-42db-914c-0ee414b19475",
   "metadata": {},
   "outputs": [],
   "source": []
  }
 ],
 "metadata": {
  "kernelspec": {
   "display_name": "Python 3 (ipykernel)",
   "language": "python",
   "name": "python3"
  },
  "language_info": {
   "codemirror_mode": {
    "name": "ipython",
    "version": 3
   },
   "file_extension": ".py",
   "mimetype": "text/x-python",
   "name": "python",
   "nbconvert_exporter": "python",
   "pygments_lexer": "ipython3",
   "version": "3.11.5"
  }
 },
 "nbformat": 4,
 "nbformat_minor": 5
}
