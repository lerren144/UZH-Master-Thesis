{
 "cells": [
  {
   "cell_type": "code",
   "execution_count": 1,
   "id": "395edcdf-3a20-4761-964c-8b4b9cc935b7",
   "metadata": {},
   "outputs": [
    {
     "name": "stdout",
     "output_type": "stream",
     "text": [
      "Transition matrix has been saved to LC_ESACCI_0615_transition_matrix_22x22.csv.\n"
     ]
    }
   ],
   "source": [
    "import numpy as np\n",
    "import rasterio\n",
    "import pandas as pd\n",
    "\n",
    "# Define the file paths\n",
    "before_tif_path = r\"C:\\Users\\llccl\\OneDrive\\Documents\\To Do\\Academics\\2nd Year - 1st Semester\\Master Thesis\\2 - Thesis Proper\\5 - Processing\\3. Disturbed Mask\\2006 to 2015 Exports\\Copernicus LC\\Disturbed_Mask_Before_After\\before_landcover_rev.tif\"\n",
    "after_tif_path = r\"C:\\Users\\llccl\\OneDrive\\Documents\\To Do\\Academics\\2nd Year - 1st Semester\\Master Thesis\\2 - Thesis Proper\\5 - Processing\\3. Disturbed Mask\\2006 to 2015 Exports\\Copernicus LC\\Disturbed_Mask_Before_After\\after_landcover_rev.tif\"\n",
    "output_csv_path = \"LC_ESACCI_0615_transition_matrix_22x22.csv\" #2\n",
    "\n",
    "# Define the specific class labels\n",
    "classes = [10, 20, 30, 40, 50, 60, 70, 80, 90, 100, 110, 120, 130, 140, 150, 160, 170, 180, 190, 200, 210, 220]\n",
    "\n",
    "# Load the before and after images\n",
    "with rasterio.open(before_tif_path) as before_src:\n",
    "    before_data = before_src.read(1)  # Read the first band\n",
    "\n",
    "with rasterio.open(after_tif_path) as after_src:\n",
    "    after_data = after_src.read(1)  # Read the first band\n",
    "\n",
    "# Ensure both images have the same dimensions\n",
    "if before_data.shape != after_data.shape:\n",
    "    raise ValueError(\"The dimensions of the before and after images do not match.\")\n",
    "\n",
    "# Initialize the transition matrix\n",
    "num_classes = len(classes)\n",
    "transition_matrix = np.zeros((num_classes, num_classes), dtype=int)\n",
    "\n",
    "# Calculate the transition matrix\n",
    "for i, class_i in enumerate(classes):\n",
    "    for j, class_j in enumerate(classes):\n",
    "        transition_matrix[i, j] = np.sum((before_data == class_i) & (after_data == class_j))\n",
    "\n",
    "# Convert the matrix to a DataFrame for better readability\n",
    "transition_df = pd.DataFrame(\n",
    "    transition_matrix,\n",
    "    index=[f\"Class_{c}\" for c in classes],\n",
    "    columns=[f\"Class_{c}\" for c in classes],\n",
    ")\n",
    "\n",
    "# Export the transition matrix to a CSV file\n",
    "transition_df.to_csv(output_csv_path, index=True)\n",
    "\n",
    "print(f\"Transition matrix has been saved to {output_csv_path}.\")\n"
   ]
  },
  {
   "cell_type": "code",
   "execution_count": 1,
   "id": "a4fe12cf-de98-4752-abdd-56c9181ab06c",
   "metadata": {},
   "outputs": [
    {
     "name": "stdout",
     "output_type": "stream",
     "text": [
      "Transition matrix has been saved to LC_ESACCI_0120_transition_matrix_22x22.csv.\n"
     ]
    }
   ],
   "source": [
    "import numpy as np\n",
    "import rasterio\n",
    "import pandas as pd\n",
    "\n",
    "# Define the file paths\n",
    "before_tif_path = r\"C:\\Users\\llccl\\OneDrive\\Documents\\To Do\\Academics\\2nd Year - 1st Semester\\Master Thesis\\2 - Thesis Proper\\5 - Processing\\3. Disturbed Mask\\2000 to 2020 Exports\\Copernicus LC\\Disturbed_Mask_Before_After\\before_landcover_rev.tif\"\n",
    "after_tif_path = r\"C:\\Users\\llccl\\OneDrive\\Documents\\To Do\\Academics\\2nd Year - 1st Semester\\Master Thesis\\2 - Thesis Proper\\5 - Processing\\3. Disturbed Mask\\2000 to 2020 Exports\\Copernicus LC\\Disturbed_Mask_Before_After\\after_landcover_rev.tif\"\n",
    "output_csv_path = \"LC_ESACCI_0120_transition_matrix_22x22.csv\" #5\n",
    "\n",
    "# Define the specific class labels\n",
    "classes = [10, 20, 30, 40, 50, 60, 70, 80, 90, 100, 110, 120, 130, 140, 150, 160, 170, 180, 190, 200, 210, 220]\n",
    "\n",
    "# Load the before and after images\n",
    "with rasterio.open(before_tif_path) as before_src:\n",
    "    before_data = before_src.read(1)  # Read the first band\n",
    "\n",
    "with rasterio.open(after_tif_path) as after_src:\n",
    "    after_data = after_src.read(1)  # Read the first band\n",
    "\n",
    "# Ensure both images have the same dimensions\n",
    "if before_data.shape != after_data.shape:\n",
    "    raise ValueError(\"The dimensions of the before and after images do not match.\")\n",
    "\n",
    "# Initialize the transition matrix\n",
    "num_classes = len(classes)\n",
    "transition_matrix = np.zeros((num_classes, num_classes), dtype=int)\n",
    "\n",
    "# Calculate the transition matrix\n",
    "for i, class_i in enumerate(classes):\n",
    "    for j, class_j in enumerate(classes):\n",
    "        transition_matrix[i, j] = np.sum((before_data == class_i) & (after_data == class_j))\n",
    "\n",
    "# Convert the matrix to a DataFrame for better readability\n",
    "transition_df = pd.DataFrame(\n",
    "    transition_matrix,\n",
    "    index=[f\"Class_{c}\" for c in classes],\n",
    "    columns=[f\"Class_{c}\" for c in classes],\n",
    ")\n",
    "\n",
    "# Export the transition matrix to a CSV file\n",
    "transition_df.to_csv(output_csv_path, index=True)\n",
    "\n",
    "print(f\"Transition matrix has been saved to {output_csv_path}.\")\n"
   ]
  },
  {
   "cell_type": "code",
   "execution_count": null,
   "id": "a53a8fc9-ffab-4f9c-81c1-fe8e3e5e78e3",
   "metadata": {},
   "outputs": [],
   "source": []
  },
  {
   "cell_type": "code",
   "execution_count": null,
   "id": "1b4ec763-7c22-4bb9-9615-db803f2d7d01",
   "metadata": {},
   "outputs": [],
   "source": []
  }
 ],
 "metadata": {
  "kernelspec": {
   "display_name": "Python 3 (ipykernel)",
   "language": "python",
   "name": "python3"
  },
  "language_info": {
   "codemirror_mode": {
    "name": "ipython",
    "version": 3
   },
   "file_extension": ".py",
   "mimetype": "text/x-python",
   "name": "python",
   "nbconvert_exporter": "python",
   "pygments_lexer": "ipython3",
   "version": "3.11.5"
  }
 },
 "nbformat": 4,
 "nbformat_minor": 5
}
